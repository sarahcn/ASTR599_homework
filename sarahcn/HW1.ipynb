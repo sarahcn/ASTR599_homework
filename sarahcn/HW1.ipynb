{
 "metadata": {
  "name": "",
  "signature": "sha256:da2d8b0d6bcf773f8af048f2a84db54bfb0dc4a2cd0ea25940cc021733085796"
 },
 "nbformat": 3,
 "nbformat_minor": 0,
 "worksheets": [
  {
   "cells": [
    {
     "cell_type": "heading",
     "level": 1,
     "metadata": {},
     "source": [
      "Homework assignment #1 for ASTR 599 python seminar, Fall 2014"
     ]
    },
    {
     "cell_type": "code",
     "collapsed": false,
     "input": [
      "import csv\n",
      "import urllib2"
     ],
     "language": "python",
     "metadata": {},
     "outputs": [],
     "prompt_number": 1
    },
    {
     "cell_type": "markdown",
     "metadata": {},
     "source": [
      "The data file we need is in Jake's 2013 github directory. Can we read as a csv path on a url?\n",
      "Borrowing some ideas from http://stackoverflow.com/questions/16283799/how-to-read-a-csv-file-from-a-url-python."
     ]
    },
    {
     "cell_type": "code",
     "collapsed": false,
     "input": [
      "url = 'https://github.com/jakevdp/2013_fall_ASTR599/blob/master/notebooks/data/asteroids5000.csv'"
     ],
     "language": "python",
     "metadata": {},
     "outputs": [],
     "prompt_number": 2
    },
    {
     "cell_type": "code",
     "collapsed": false,
     "input": [
      "response = urllib2.urlopen(url)\n",
      "cr = csv.reader(response)"
     ],
     "language": "python",
     "metadata": {},
     "outputs": [],
     "prompt_number": 3
    },
    {
     "cell_type": "markdown",
     "metadata": {},
     "source": [
      "Ok, no - that's no good. Saved .csv to my working directory. See if that worked"
     ]
    },
    {
     "cell_type": "code",
     "collapsed": false,
     "input": [
      "import os\n",
      "os.listdir('.')"
     ],
     "language": "python",
     "metadata": {},
     "outputs": [
      {
       "metadata": {},
       "output_type": "pyout",
       "prompt_number": 4,
       "text": [
        "['.ipynb_checkpoints',\n",
        " '2013_fall_ASTR599',\n",
        " 'asteroids5000.csv',\n",
        " 'HW1.ipynb',\n",
        " 'test',\n",
        " 'test.txt']"
       ]
      }
     ],
     "prompt_number": 4
    },
    {
     "cell_type": "code",
     "collapsed": false,
     "input": [
      "asteroids = csv.reader('asteroids5000.csv')"
     ],
     "language": "python",
     "metadata": {},
     "outputs": [],
     "prompt_number": 5
    },
    {
     "cell_type": "markdown",
     "metadata": {},
     "source": [
      "looks like my right click and \"save as\" from git hub didn't actually save the .csv. instead i made a fork of the 2013 repos, https://github.com/sarahcn/2013_fall_ASTR599, and copied the .csv file into this working directory"
     ]
    },
    {
     "cell_type": "code",
     "collapsed": false,
     "input": [
      "os.listdir('.')"
     ],
     "language": "python",
     "metadata": {},
     "outputs": [
      {
       "metadata": {},
       "output_type": "pyout",
       "prompt_number": 6,
       "text": [
        "['.ipynb_checkpoints',\n",
        " '2013_fall_ASTR599',\n",
        " 'asteroids5000.csv',\n",
        " 'HW1.ipynb',\n",
        " 'test',\n",
        " 'test.txt']"
       ]
      }
     ],
     "prompt_number": 6
    },
    {
     "cell_type": "code",
     "collapsed": false,
     "input": [
      "ifile  = open('asteroids5000.csv', \"rb\")\n",
      "reader = csv.reader(ifile)"
     ],
     "language": "python",
     "metadata": {},
     "outputs": [],
     "prompt_number": 7
    },
    {
     "cell_type": "code",
     "collapsed": false,
     "input": [
      "Oh right - Jake tells us in hw instructions to use the numpy function \"genfromtxt\""
     ],
     "language": "python",
     "metadata": {},
     "outputs": [
      {
       "ename": "SyntaxError",
       "evalue": "invalid syntax (<ipython-input-8-30f39fad520a>, line 1)",
       "output_type": "pyerr",
       "traceback": [
        "\u001b[1;36m  File \u001b[1;32m\"<ipython-input-8-30f39fad520a>\"\u001b[1;36m, line \u001b[1;32m1\u001b[0m\n\u001b[1;33m    Oh right - Jake tells us in hw instructions to use the numpy function \"genfromtxt\"\u001b[0m\n\u001b[1;37m           ^\u001b[0m\n\u001b[1;31mSyntaxError\u001b[0m\u001b[1;31m:\u001b[0m invalid syntax\n"
       ]
      }
     ],
     "prompt_number": 8
    },
    {
     "cell_type": "code",
     "collapsed": false,
     "input": [
      "import numpy as np\n",
      "help(np.genfromtxt)"
     ],
     "language": "python",
     "metadata": {},
     "outputs": [
      {
       "output_type": "stream",
       "stream": "stdout",
       "text": [
        "Help on function genfromtxt in module numpy.lib.npyio:\n",
        "\n",
        "genfromtxt(fname, dtype=<type 'float'>, comments='#', delimiter=None, skiprows=0, skip_header=0, skip_footer=0, converters=None, missing='', missing_values=None, filling_values=None, usecols=None, names=None, excludelist=None, deletechars=None, replace_space='_', autostrip=False, case_sensitive=True, defaultfmt='f%i', unpack=None, usemask=False, loose=True, invalid_raise=True)\n",
        "    Load data from a text file, with missing values handled as specified.\n",
        "    \n",
        "    Each line past the first `skip_header` lines is split at the `delimiter`\n",
        "    character, and characters following the `comments` character are discarded.\n",
        "    \n",
        "    Parameters\n",
        "    ----------\n",
        "    fname : file or str\n",
        "        File, filename, or generator to read.  If the filename extension is\n",
        "        `.gz` or `.bz2`, the file is first decompressed. Note that\n",
        "        generators must return byte strings in Python 3k.\n",
        "    dtype : dtype, optional\n",
        "        Data type of the resulting array.\n",
        "        If None, the dtypes will be determined by the contents of each\n",
        "        column, individually.\n",
        "    comments : str, optional\n",
        "        The character used to indicate the start of a comment.\n",
        "        All the characters occurring on a line after a comment are discarded\n",
        "    delimiter : str, int, or sequence, optional\n",
        "        The string used to separate values.  By default, any consecutive\n",
        "        whitespaces act as delimiter.  An integer or sequence of integers\n",
        "        can also be provided as width(s) of each field.\n",
        "    skip_header : int, optional\n",
        "        The numbers of lines to skip at the beginning of the file.\n",
        "    skip_footer : int, optional\n",
        "        The numbers of lines to skip at the end of the file\n",
        "    converters : variable, optional\n",
        "        The set of functions that convert the data of a column to a value.\n",
        "        The converters can also be used to provide a default value\n",
        "        for missing data: ``converters = {3: lambda s: float(s or 0)}``.\n",
        "    missing_values : variable, optional\n",
        "        The set of strings corresponding to missing data.\n",
        "    filling_values : variable, optional\n",
        "        The set of values to be used as default when the data are missing.\n",
        "    usecols : sequence, optional\n",
        "        Which columns to read, with 0 being the first.  For example,\n",
        "        ``usecols = (1, 4, 5)`` will extract the 2nd, 5th and 6th columns.\n",
        "    names : {None, True, str, sequence}, optional\n",
        "        If `names` is True, the field names are read from the first valid line\n",
        "        after the first `skip_header` lines.\n",
        "        If `names` is a sequence or a single-string of comma-separated names,\n",
        "        the names will be used to define the field names in a structured dtype.\n",
        "        If `names` is None, the names of the dtype fields will be used, if any.\n",
        "    excludelist : sequence, optional\n",
        "        A list of names to exclude. This list is appended to the default list\n",
        "        ['return','file','print']. Excluded names are appended an underscore:\n",
        "        for example, `file` would become `file_`.\n",
        "    deletechars : str, optional\n",
        "        A string combining invalid characters that must be deleted from the\n",
        "        names.\n",
        "    defaultfmt : str, optional\n",
        "        A format used to define default field names, such as \"f%i\" or \"f_%02i\".\n",
        "    autostrip : bool, optional\n",
        "        Whether to automatically strip white spaces from the variables.\n",
        "    replace_space : char, optional\n",
        "        Character(s) used in replacement of white spaces in the variables\n",
        "        names. By default, use a '_'.\n",
        "    case_sensitive : {True, False, 'upper', 'lower'}, optional\n",
        "        If True, field names are case sensitive.\n",
        "        If False or 'upper', field names are converted to upper case.\n",
        "        If 'lower', field names are converted to lower case.\n",
        "    unpack : bool, optional\n",
        "        If True, the returned array is transposed, so that arguments may be\n",
        "        unpacked using ``x, y, z = loadtxt(...)``\n",
        "    usemask : bool, optional\n",
        "        If True, return a masked array.\n",
        "        If False, return a regular array.\n",
        "    invalid_raise : bool, optional\n",
        "        If True, an exception is raised if an inconsistency is detected in the\n",
        "        number of columns.\n",
        "        If False, a warning is emitted and the offending lines are skipped.\n",
        "    \n",
        "    Returns\n",
        "    -------\n",
        "    out : ndarray\n",
        "        Data read from the text file. If `usemask` is True, this is a\n",
        "        masked array.\n",
        "    \n",
        "    See Also\n",
        "    --------\n",
        "    numpy.loadtxt : equivalent function when no data is missing.\n",
        "    \n",
        "    Notes\n",
        "    -----\n",
        "    * When spaces are used as delimiters, or when no delimiter has been given\n",
        "      as input, there should not be any missing data between two fields.\n",
        "    * When the variables are named (either by a flexible dtype or with `names`,\n",
        "      there must not be any header in the file (else a ValueError\n",
        "      exception is raised).\n",
        "    * Individual values are not stripped of spaces by default.\n",
        "      When using a custom converter, make sure the function does remove spaces.\n",
        "    \n",
        "    References\n",
        "    ----------\n",
        "    .. [1] Numpy User Guide, section `I/O with Numpy\n",
        "           <http://docs.scipy.org/doc/numpy/user/basics.io.genfromtxt.html>`_.\n",
        "    \n",
        "    Examples\n",
        "    ---------\n",
        "    >>> from StringIO import StringIO\n",
        "    >>> import numpy as np\n",
        "    \n",
        "    Comma delimited file with mixed dtype\n",
        "    \n",
        "    >>> s = StringIO(\"1,1.3,abcde\")\n",
        "    >>> data = np.genfromtxt(s, dtype=[('myint','i8'),('myfloat','f8'),\n",
        "    ... ('mystring','S5')], delimiter=\",\")\n",
        "    >>> data\n",
        "    array((1, 1.3, 'abcde'),\n",
        "          dtype=[('myint', '<i8'), ('myfloat', '<f8'), ('mystring', '|S5')])\n",
        "    \n",
        "    Using dtype = None\n",
        "    \n",
        "    >>> s.seek(0) # needed for StringIO example only\n",
        "    >>> data = np.genfromtxt(s, dtype=None,\n",
        "    ... names = ['myint','myfloat','mystring'], delimiter=\",\")\n",
        "    >>> data\n",
        "    array((1, 1.3, 'abcde'),\n",
        "          dtype=[('myint', '<i8'), ('myfloat', '<f8'), ('mystring', '|S5')])\n",
        "    \n",
        "    Specifying dtype and names\n",
        "    \n",
        "    >>> s.seek(0)\n",
        "    >>> data = np.genfromtxt(s, dtype=\"i8,f8,S5\",\n",
        "    ... names=['myint','myfloat','mystring'], delimiter=\",\")\n",
        "    >>> data\n",
        "    array((1, 1.3, 'abcde'),\n",
        "          dtype=[('myint', '<i8'), ('myfloat', '<f8'), ('mystring', '|S5')])\n",
        "    \n",
        "    An example with fixed-width columns\n",
        "    \n",
        "    >>> s = StringIO(\"11.3abcde\")\n",
        "    >>> data = np.genfromtxt(s, dtype=None, names=['intvar','fltvar','strvar'],\n",
        "    ...     delimiter=[1,3,5])\n",
        "    >>> data\n",
        "    array((1, 1.3, 'abcde'),\n",
        "          dtype=[('intvar', '<i8'), ('fltvar', '<f8'), ('strvar', '|S5')])\n",
        "\n"
       ]
      }
     ],
     "prompt_number": 9
    },
    {
     "cell_type": "code",
     "collapsed": false,
     "input": [
      "asteroids = np.genfromtxt('asteroids5000.csv', names=True, delimiter=',')"
     ],
     "language": "python",
     "metadata": {},
     "outputs": [],
     "prompt_number": 16
    },
    {
     "cell_type": "code",
     "collapsed": false,
     "input": [
      "asteroids"
     ],
     "language": "python",
     "metadata": {},
     "outputs": [
      {
       "metadata": {},
       "output_type": "pyout",
       "prompt_number": 17,
       "text": [
        "array([ (2.766807266312202, 0.07579725984872261, 10.59398142371781, 3.34, 952.4, 0.713, 0.426),\n",
        "       (2.77243388008233, 0.2315650120848084, 34.83625656930519, 4.13, 545.0, 0.635, 0.284),\n",
        "       (2.670305369301265, 0.2552871218520899, 12.98057939696183, 5.33, 233.92, 0.824, 0.433),\n",
        "       ...,\n",
        "       (2.684141240996532, 0.2075733124875667, 6.45590488567745, 12.7, nan, nan, nan),\n",
        "       (2.605269637104895, 0.1241515636245833, 11.92194290672961, 11.9, nan, nan, nan),\n",
        "       (3.014279043412613, 0.0802323462385273, 10.37267019328608, 12.1, nan, nan, nan)], \n",
        "      dtype=[('a', '<f8'), ('e', '<f8'), ('i', '<f8'), ('H', '<f8'), ('diameter', '<f8'), ('BV', '<f8'), ('UB', '<f8')])"
       ]
      }
     ],
     "prompt_number": 17
    },
    {
     "cell_type": "markdown",
     "metadata": {},
     "source": [
      "I can see the column names"
     ]
    },
    {
     "cell_type": "markdown",
     "metadata": {},
     "source": [
      "quesiont (2)\n",
      "genfromtxt sets all missing values to np.nan. Use the operations we discussed here to answer these questions:\n",
      "How many values are missing in this data?\n",
      "How many complete rows are there? i.e. how many objects have no missing values?"
     ]
    },
    {
     "cell_type": "code",
     "collapsed": false,
     "input": [
      "len(asteroids)\n",
      "asteroids.dtype"
     ],
     "language": "python",
     "metadata": {},
     "outputs": [
      {
       "metadata": {},
       "output_type": "pyout",
       "prompt_number": 13,
       "text": [
        "dtype([('a', '<f8'), ('e', '<f8'), ('i', '<f8'), ('H', '<f8'), ('diameter', '<f8'), ('BV', '<f8'), ('UB', '<f8')])"
       ]
      }
     ],
     "prompt_number": 13
    },
    {
     "cell_type": "code",
     "collapsed": false,
     "input": [
      "mask = np.isnan(asteroids)\n",
      "mask"
     ],
     "language": "python",
     "metadata": {},
     "outputs": [
      {
       "ename": "TypeError",
       "evalue": "Not implemented for this type",
       "output_type": "pyerr",
       "traceback": [
        "\u001b[1;31m---------------------------------------------------------------------------\u001b[0m\n\u001b[1;31mTypeError\u001b[0m                                 Traceback (most recent call last)",
        "\u001b[1;32m<ipython-input-14-86e880f4a111>\u001b[0m in \u001b[0;36m<module>\u001b[1;34m()\u001b[0m\n\u001b[1;32m----> 1\u001b[1;33m \u001b[0mmask\u001b[0m \u001b[1;33m=\u001b[0m \u001b[0mnp\u001b[0m\u001b[1;33m.\u001b[0m\u001b[0misnan\u001b[0m\u001b[1;33m(\u001b[0m\u001b[0masteroids\u001b[0m\u001b[1;33m)\u001b[0m\u001b[1;33m\u001b[0m\u001b[0m\n\u001b[0m\u001b[0;32m      2\u001b[0m \u001b[0mmask\u001b[0m\u001b[1;33m\u001b[0m\u001b[0m\n",
        "\u001b[1;31mTypeError\u001b[0m: Not implemented for this type"
       ]
      }
     ],
     "prompt_number": 14
    },
    {
     "cell_type": "markdown",
     "metadata": {},
     "source": [
      "ok, that's too bad. i looked at csv and saw an empty cell in row 34"
     ]
    },
    {
     "cell_type": "code",
     "collapsed": false,
     "input": [
      "asteroids[32]"
     ],
     "language": "python",
     "metadata": {},
     "outputs": [
      {
       "metadata": {},
       "output_type": "pyout",
       "prompt_number": 25,
       "text": [
        "(2.867772715109267, 0.336856161445171, 1.868783794465353, 8.55, nan, 0.848, 0.438)"
       ]
      }
     ],
     "prompt_number": 25
    },
    {
     "cell_type": "code",
     "collapsed": false,
     "input": [
      "np.isnan(asteroids[32])"
     ],
     "language": "python",
     "metadata": {},
     "outputs": [
      {
       "ename": "TypeError",
       "evalue": "Not implemented for this type",
       "output_type": "pyerr",
       "traceback": [
        "\u001b[1;31m---------------------------------------------------------------------------\u001b[0m\n\u001b[1;31mTypeError\u001b[0m                                 Traceback (most recent call last)",
        "\u001b[1;32m<ipython-input-26-be3855963729>\u001b[0m in \u001b[0;36m<module>\u001b[1;34m()\u001b[0m\n\u001b[1;32m----> 1\u001b[1;33m \u001b[0mnp\u001b[0m\u001b[1;33m.\u001b[0m\u001b[0misnan\u001b[0m\u001b[1;33m(\u001b[0m\u001b[0masteroids\u001b[0m\u001b[1;33m[\u001b[0m\u001b[1;36m32\u001b[0m\u001b[1;33m]\u001b[0m\u001b[1;33m)\u001b[0m\u001b[1;33m\u001b[0m\u001b[0m\n\u001b[0m",
        "\u001b[1;31mTypeError\u001b[0m: Not implemented for this type"
       ]
      }
     ],
     "prompt_number": 26
    },
    {
     "cell_type": "markdown",
     "metadata": {},
     "source": [
      "Googling for this error - isnan needs a float. try specifyign dtype when reading in csv"
     ]
    },
    {
     "cell_type": "code",
     "collapsed": false,
     "input": [
      "asteroids = np.genfromtxt('asteroids5000.csv', names=True, delimiter=',')"
     ],
     "language": "python",
     "metadata": {},
     "outputs": [],
     "prompt_number": 33
    },
    {
     "cell_type": "code",
     "collapsed": false,
     "input": [
      "asteriods"
     ],
     "language": "python",
     "metadata": {},
     "outputs": [
      {
       "ename": "NameError",
       "evalue": "name 'asteriods' is not defined",
       "output_type": "pyerr",
       "traceback": [
        "\u001b[1;31m---------------------------------------------------------------------------\u001b[0m\n\u001b[1;31mNameError\u001b[0m                                 Traceback (most recent call last)",
        "\u001b[1;32m<ipython-input-34-aac72c6717f4>\u001b[0m in \u001b[0;36m<module>\u001b[1;34m()\u001b[0m\n\u001b[1;32m----> 1\u001b[1;33m \u001b[0masteriods\u001b[0m\u001b[1;33m\u001b[0m\u001b[0m\n\u001b[0m",
        "\u001b[1;31mNameError\u001b[0m: name 'asteriods' is not defined"
       ]
      }
     ],
     "prompt_number": 34
    },
    {
     "cell_type": "code",
     "collapsed": false,
     "input": [
      "reset"
     ],
     "language": "python",
     "metadata": {},
     "outputs": [
      {
       "name": "stdout",
       "output_type": "stream",
       "stream": "stdout",
       "text": [
        "Once deleted, variables cannot be recovered. Proceed (y/[n])? \n"
       ]
      },
      {
       "output_type": "stream",
       "stream": "stdout",
       "text": [
        "Nothing done.\n"
       ]
      }
     ],
     "prompt_number": 41
    },
    {
     "cell_type": "code",
     "collapsed": false,
     "input": [
      "import numpy as np\n",
      "asteroids = np.genfromtxt('asteroids5000.csv', names=True, delimiter=',', dtype='float')\n",
      "asteroids"
     ],
     "language": "python",
     "metadata": {},
     "outputs": [
      {
       "metadata": {},
       "output_type": "pyout",
       "prompt_number": 42,
       "text": [
        "array([ (2.766807266312202, 0.07579725984872261, 10.59398142371781, 3.34, 952.4, 0.713, 0.426),\n",
        "       (2.77243388008233, 0.2315650120848084, 34.83625656930519, 4.13, 545.0, 0.635, 0.284),\n",
        "       (2.670305369301265, 0.2552871218520899, 12.98057939696183, 5.33, 233.92, 0.824, 0.433),\n",
        "       ...,\n",
        "       (2.684141240996532, 0.2075733124875667, 6.45590488567745, 12.7, nan, nan, nan),\n",
        "       (2.605269637104895, 0.1241515636245833, 11.92194290672961, 11.9, nan, nan, nan),\n",
        "       (3.014279043412613, 0.0802323462385273, 10.37267019328608, 12.1, nan, nan, nan)], \n",
        "      dtype=[('a', '<f8'), ('e', '<f8'), ('i', '<f8'), ('H', '<f8'), ('diameter', '<f8'), ('BV', '<f8'), ('UB', '<f8')])"
       ]
      }
     ],
     "prompt_number": 42
    },
    {
     "cell_type": "code",
     "collapsed": false,
     "input": [
      "np.isnan(asteroids[32])"
     ],
     "language": "python",
     "metadata": {},
     "outputs": [
      {
       "ename": "TypeError",
       "evalue": "Not implemented for this type",
       "output_type": "pyerr",
       "traceback": [
        "\u001b[1;31m---------------------------------------------------------------------------\u001b[0m\n\u001b[1;31mTypeError\u001b[0m                                 Traceback (most recent call last)",
        "\u001b[1;32m<ipython-input-43-be3855963729>\u001b[0m in \u001b[0;36m<module>\u001b[1;34m()\u001b[0m\n\u001b[1;32m----> 1\u001b[1;33m \u001b[0mnp\u001b[0m\u001b[1;33m.\u001b[0m\u001b[0misnan\u001b[0m\u001b[1;33m(\u001b[0m\u001b[0masteroids\u001b[0m\u001b[1;33m[\u001b[0m\u001b[1;36m32\u001b[0m\u001b[1;33m]\u001b[0m\u001b[1;33m)\u001b[0m\u001b[1;33m\u001b[0m\u001b[0m\n\u001b[0m",
        "\u001b[1;31mTypeError\u001b[0m: Not implemented for this type"
       ]
      }
     ],
     "prompt_number": 43
    },
    {
     "cell_type": "markdown",
     "metadata": {},
     "source": [
      "that's annoying. try isnan examples from class"
     ]
    },
    {
     "cell_type": "code",
     "collapsed": false,
     "input": [
      "x = np.random.random(5)\n",
      "x[x > 0.5] = np.nan\n",
      "np.isnan(x)"
     ],
     "language": "python",
     "metadata": {},
     "outputs": [
      {
       "metadata": {},
       "output_type": "pyout",
       "prompt_number": 44,
       "text": [
        "array([ True, False, False, False,  True], dtype=bool)"
       ]
      }
     ],
     "prompt_number": 44
    },
    {
     "cell_type": "markdown",
     "metadata": {},
     "source": [
      "the datatype 'f8' is a floating point number (http://docs.scipy.org/doc/numpy/reference/arrays.dtypes.html). so not getting why np.isnan won't work with my asteroids array"
     ]
    },
    {
     "cell_type": "code",
     "collapsed": false,
     "input": [
      "y = np.array([2.766807266312202, 0.07579725984872261, 10.59398142371781, 3.34, 952.4, 0.713, 0.426])"
     ],
     "language": "python",
     "metadata": {},
     "outputs": [],
     "prompt_number": 51
    },
    {
     "cell_type": "code",
     "collapsed": false,
     "input": [
      "np.isnan(y)"
     ],
     "language": "python",
     "metadata": {},
     "outputs": [
      {
       "metadata": {},
       "output_type": "pyout",
       "prompt_number": 52,
       "text": [
        "array([False, False, False, False, False, False, False], dtype=bool)"
       ]
      }
     ],
     "prompt_number": 52
    },
    {
     "cell_type": "code",
     "collapsed": false,
     "input": [
      "z = asteroids[32]\n",
      "z"
     ],
     "language": "python",
     "metadata": {},
     "outputs": [
      {
       "metadata": {},
       "output_type": "pyout",
       "prompt_number": 54,
       "text": [
        "(2.867772715109267, 0.336856161445171, 1.868783794465353, 8.55, nan, 0.848, 0.438)"
       ]
      }
     ],
     "prompt_number": 54
    },
    {
     "cell_type": "code",
     "collapsed": false,
     "input": [
      "np.isnan(z)\n"
     ],
     "language": "python",
     "metadata": {},
     "outputs": [
      {
       "ename": "TypeError",
       "evalue": "Not implemented for this type",
       "output_type": "pyerr",
       "traceback": [
        "\u001b[1;31m---------------------------------------------------------------------------\u001b[0m\n\u001b[1;31mTypeError\u001b[0m                                 Traceback (most recent call last)",
        "\u001b[1;32m<ipython-input-55-36d0d4513b98>\u001b[0m in \u001b[0;36m<module>\u001b[1;34m()\u001b[0m\n\u001b[1;32m----> 1\u001b[1;33m \u001b[0mnp\u001b[0m\u001b[1;33m.\u001b[0m\u001b[0misnan\u001b[0m\u001b[1;33m(\u001b[0m\u001b[0mz\u001b[0m\u001b[1;33m)\u001b[0m\u001b[1;33m\u001b[0m\u001b[0m\n\u001b[0m",
        "\u001b[1;31mTypeError\u001b[0m: Not implemented for this type"
       ]
      }
     ],
     "prompt_number": 55
    },
    {
     "cell_type": "code",
     "collapsed": false,
     "input": [
      "z = np.array[(2.867772715109267, 0.336856161445171, 1.868783794465353, 8.55, nan, 0.848, 0.438)]\n",
      "np.isnan(z)\n"
     ],
     "language": "python",
     "metadata": {},
     "outputs": [
      {
       "ename": "NameError",
       "evalue": "name 'nan' is not defined",
       "output_type": "pyerr",
       "traceback": [
        "\u001b[1;31m---------------------------------------------------------------------------\u001b[0m\n\u001b[1;31mNameError\u001b[0m                                 Traceback (most recent call last)",
        "\u001b[1;32m<ipython-input-57-d64f2b69663b>\u001b[0m in \u001b[0;36m<module>\u001b[1;34m()\u001b[0m\n\u001b[1;32m----> 1\u001b[1;33m \u001b[0mz\u001b[0m \u001b[1;33m=\u001b[0m \u001b[0mnp\u001b[0m\u001b[1;33m.\u001b[0m\u001b[0marray\u001b[0m\u001b[1;33m[\u001b[0m\u001b[1;33m(\u001b[0m\u001b[1;36m2.867772715109267\u001b[0m\u001b[1;33m,\u001b[0m \u001b[1;36m0.336856161445171\u001b[0m\u001b[1;33m,\u001b[0m \u001b[1;36m1.868783794465353\u001b[0m\u001b[1;33m,\u001b[0m \u001b[1;36m8.55\u001b[0m\u001b[1;33m,\u001b[0m \u001b[0mnan\u001b[0m\u001b[1;33m,\u001b[0m \u001b[1;36m0.848\u001b[0m\u001b[1;33m,\u001b[0m \u001b[1;36m0.438\u001b[0m\u001b[1;33m)\u001b[0m\u001b[1;33m]\u001b[0m\u001b[1;33m\u001b[0m\u001b[0m\n\u001b[0m\u001b[0;32m      2\u001b[0m \u001b[0mnp\u001b[0m\u001b[1;33m.\u001b[0m\u001b[0misnan\u001b[0m\u001b[1;33m(\u001b[0m\u001b[0mz\u001b[0m\u001b[1;33m)\u001b[0m\u001b[1;33m\u001b[0m\u001b[0m\n",
        "\u001b[1;31mNameError\u001b[0m: name 'nan' is not defined"
       ]
      }
     ],
     "prompt_number": 57
    },
    {
     "cell_type": "code",
     "collapsed": false,
     "input": [],
     "language": "python",
     "metadata": {},
     "outputs": []
    }
   ],
   "metadata": {}
  }
 ]
}